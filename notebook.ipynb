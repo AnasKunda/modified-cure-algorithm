{
 "cells": [
  {
   "cell_type": "code",
   "execution_count": 1,
   "metadata": {},
   "outputs": [],
   "source": [
    "import pandas as pd"
   ]
  },
  {
   "cell_type": "code",
   "execution_count": 19,
   "metadata": {},
   "outputs": [
    {
     "data": {
      "text/html": [
       "<div>\n",
       "<style scoped>\n",
       "    .dataframe tbody tr th:only-of-type {\n",
       "        vertical-align: middle;\n",
       "    }\n",
       "\n",
       "    .dataframe tbody tr th {\n",
       "        vertical-align: top;\n",
       "    }\n",
       "\n",
       "    .dataframe thead th {\n",
       "        text-align: right;\n",
       "    }\n",
       "</style>\n",
       "<table border=\"1\" class=\"dataframe\">\n",
       "  <thead>\n",
       "    <tr style=\"text-align: right;\">\n",
       "      <th></th>\n",
       "      <th>datetime</th>\n",
       "      <th>lane</th>\n",
       "      <th>speed</th>\n",
       "      <th>length</th>\n",
       "      <th>class</th>\n",
       "      <th>gap</th>\n",
       "      <th>wrong_dir</th>\n",
       "      <th>display</th>\n",
       "    </tr>\n",
       "  </thead>\n",
       "  <tbody>\n",
       "    <tr>\n",
       "      <th>0</th>\n",
       "      <td>Wed Aug 30 16:10:39 CEST 2017</td>\n",
       "      <td>2</td>\n",
       "      <td>35</td>\n",
       "      <td>49</td>\n",
       "      <td>2</td>\n",
       "      <td>1776</td>\n",
       "      <td>0.0</td>\n",
       "      <td>0.0</td>\n",
       "    </tr>\n",
       "    <tr>\n",
       "      <th>1</th>\n",
       "      <td>Wed Aug 30 16:10:39 CEST 2017</td>\n",
       "      <td>1</td>\n",
       "      <td>48</td>\n",
       "      <td>50</td>\n",
       "      <td>2</td>\n",
       "      <td>6200</td>\n",
       "      <td>0.0</td>\n",
       "      <td>0.0</td>\n",
       "    </tr>\n",
       "    <tr>\n",
       "      <th>2</th>\n",
       "      <td>Wed Aug 30 16:10:41 CEST 2017</td>\n",
       "      <td>1</td>\n",
       "      <td>46</td>\n",
       "      <td>38</td>\n",
       "      <td>2</td>\n",
       "      <td>1184</td>\n",
       "      <td>0.0</td>\n",
       "      <td>0.0</td>\n",
       "    </tr>\n",
       "    <tr>\n",
       "      <th>3</th>\n",
       "      <td>Wed Aug 30 16:10:41 CEST 2017</td>\n",
       "      <td>2</td>\n",
       "      <td>35</td>\n",
       "      <td>61</td>\n",
       "      <td>4</td>\n",
       "      <td>1632</td>\n",
       "      <td>0.0</td>\n",
       "      <td>0.0</td>\n",
       "    </tr>\n",
       "    <tr>\n",
       "      <th>4</th>\n",
       "      <td>Wed Aug 30 16:10:43 CEST 2017</td>\n",
       "      <td>2</td>\n",
       "      <td>36</td>\n",
       "      <td>45</td>\n",
       "      <td>2</td>\n",
       "      <td>1424</td>\n",
       "      <td>0.0</td>\n",
       "      <td>0.0</td>\n",
       "    </tr>\n",
       "  </tbody>\n",
       "</table>\n",
       "</div>"
      ],
      "text/plain": [
       "                        datetime  lane  speed  length  class   gap  wrong_dir  \\\n",
       "0  Wed Aug 30 16:10:39 CEST 2017     2     35      49      2  1776        0.0   \n",
       "1  Wed Aug 30 16:10:39 CEST 2017     1     48      50      2  6200        0.0   \n",
       "2  Wed Aug 30 16:10:41 CEST 2017     1     46      38      2  1184        0.0   \n",
       "3  Wed Aug 30 16:10:41 CEST 2017     2     35      61      4  1632        0.0   \n",
       "4  Wed Aug 30 16:10:43 CEST 2017     2     36      45      2  1424        0.0   \n",
       "\n",
       "   display  \n",
       "0      0.0  \n",
       "1      0.0  \n",
       "2      0.0  \n",
       "3      0.0  \n",
       "4      0.0  "
      ]
     },
     "execution_count": 19,
     "metadata": {},
     "output_type": "execute_result"
    }
   ],
   "source": [
    "path = './raw_data/Falen.txt'\n",
    "df = pd.read_fwf(path, widths=[29,4,7,8,7,11,9,6])\n",
    "df.columns = ['datetime', 'lane', 'speed', 'length', 'class', 'gap', 'wrong_dir', 'display']\n",
    "df.head()"
   ]
  },
  {
   "cell_type": "code",
   "execution_count": 3,
   "metadata": {},
   "outputs": [
    {
     "name": "stderr",
     "output_type": "stream",
     "text": [
      "C:\\Users\\HP\\AppData\\Local\\Packages\\PythonSoftwareFoundation.Python.3.9_qbz5n2kfra8p0\\LocalCache\\local-packages\\Python39\\site-packages\\dateutil\\parser\\_parser.py:1207: UnknownTimezoneWarning: tzname CEST identified but not understood.  Pass `tzinfos` argument in order to correctly return a timezone-aware datetime.  In a future version, this will raise an exception.\n",
      "  warnings.warn(\"tzname {tzname} identified but not understood.  \"\n"
     ]
    },
    {
     "data": {
      "text/plain": [
       "59"
      ]
     },
     "execution_count": 3,
     "metadata": {},
     "output_type": "execute_result"
    }
   ],
   "source": [
    "from process_raw_data import create_dataframe, create_speed_list\n",
    "\n",
    "path = './raw_data/Falen.txt'\n",
    "widths=[29,4,7,8,7,11,9,6]\n",
    "columns = ['datetime', 'lane', 'speed', 'length', 'class', 'gap', 'wrong_dir', 'display']\n",
    "\n",
    "processed_df = create_dataframe(path, widths, columns)\n",
    "areaname = 'Falen'\n",
    "\n",
    "sample = create_speed_list(processed_df, areaname)"
   ]
  },
  {
   "cell_type": "markdown",
   "metadata": {},
   "source": [
    "# The sample retrieved above can be used directly in cure.py"
   ]
  },
  {
   "cell_type": "code",
   "execution_count": null,
   "metadata": {},
   "outputs": [],
   "source": []
  }
 ],
 "metadata": {
  "kernelspec": {
   "display_name": "Python 3.9.13 64-bit (windows store)",
   "language": "python",
   "name": "python3"
  },
  "language_info": {
   "codemirror_mode": {
    "name": "ipython",
    "version": 3
   },
   "file_extension": ".py",
   "mimetype": "text/x-python",
   "name": "python",
   "nbconvert_exporter": "python",
   "pygments_lexer": "ipython3",
   "version": "3.9.13"
  },
  "orig_nbformat": 4,
  "vscode": {
   "interpreter": {
    "hash": "c57489f1127021e83b3524cbb89fe6fb2cfcf6f40b723ef116d59589bb04c83d"
   }
  }
 },
 "nbformat": 4,
 "nbformat_minor": 2
}
